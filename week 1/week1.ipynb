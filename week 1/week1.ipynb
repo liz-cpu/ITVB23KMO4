{
 "cells": [
  {
   "cell_type": "markdown",
   "metadata": {},
   "source": [
    "# AI week 1 Liz"
   ]
  },
  {
   "cell_type": "code",
   "execution_count": 1,
   "metadata": {},
   "outputs": [],
   "source": [
    "import colorama as color\n",
    "import sys\n",
    "sys.path.insert(0, '../')"
   ]
  },
  {
   "cell_type": "markdown",
   "metadata": {},
   "source": [
    "## 1. River crossing"
   ]
  },
  {
   "cell_type": "markdown",
   "metadata": {},
   "source": [
    "> ### Assignment\n",
    "> As discussed in the lecture: a farmer has a wolf, a goat, and a cabbage. He must transport himself and both animals, along with the cabbage, to the other side of the river. There is a small boat in which he can carry only one thing at a time. However, if the wolf and the goat are left alone, the wolf will eat the goat. If the goat and the cabbage are left alone, the goat will eat the cabbage. \n",
    ">\n",
    "> Write a Python program that provides all solutions. It can be done in less than 80 lines. You don't need to create a GUI; a simple command-line interface (CLI) is sufficient.\n",
    ">\n",
    "> Here are some hints: a state represents the configuration of the left and right banks. For example, 'FGCW|' is the initial state, and '|FGCW' is the final state. A state can transition to the next state as the farmer crosses the river with an item. If we view the states as nodes and the transitions as branches, we get a tree structure that we can explore with depth-first search (DFS). Refer to the lecture slides for more details.\n",
    ">\n",
    "> **Question: What is the time complexity of your solution?**"
   ]
  },
  {
   "cell_type": "markdown",
   "metadata": {},
   "source": [
    "### Solution\n",
    "\n",
    "Firstly, I created a class called `Node` which represents the state of the river. It has the following attributes:\n",
    "\n",
    "- `top`: a set of characters representing items on the top side of the river. This is also the initial side.\n",
    "- `bottom`: a set of characters representing items on the bottom side of the river. This is also the final side.\n",
    "- `farmer`: a boolean value indicating whether the boat is on the top side or not.\n",
    "- `parent`: the parent state of the current state. This is used to trace back the path from the final state to the initial state.\n",
    "\n",
    "To be able to compare two states, I implemented the `__eq__` method. It returns `True` if the two states (top, bottom, farmer's side) are the same.\n",
    "\n",
    "The `move` method is used to move an item from one side to the other. It takes an item as an argument and returns a new state. If the item is not on the same side as the boat, it returns `None`.\n",
    "\n",
    "`is_valid` was somehow the hardest method to implement. It checks if the state is valid or not. A state is valid if on the side where the farmer is not,\n",
    "no item is eaten. The `prohibited = [set(\"🐐🥬\"), set(\"🐐🐺\")]` variable contains the combinations of items that are not allowed to be on the same side.\n",
    "\n",
    "The `get_children` method returns a list of valid states that can be reached from the current state. It does so by calling the `move` method for each item on the current side and adds this to the list **and** a child node for the farmer without any item."
   ]
  },
  {
   "cell_type": "code",
   "execution_count": 2,
   "metadata": {},
   "outputs": [],
   "source": [
    "class Node(object):\n",
    "    prohibited = [set(\"🐐🥬\"), set(\"🐐🐺\")]\n",
    "\n",
    "    def __init__(self, top: set[chr], bottom: set[chr], farmer: bool, parent: bool = None):\n",
    "        self.top = top\n",
    "        self.bottom = bottom\n",
    "        self.farmer = farmer\n",
    "        self.parent = parent\n",
    "\n",
    "    def __str__(self):\n",
    "        return \"\".join(self.top) + (\"👨|\" if self.farmer else \"|👨\") + \"\".join(self.bottom)\n",
    "\n",
    "    def __eq__(self, __value: object) -> bool:\n",
    "        return self.top == __value.top and self.bottom == __value.bottom and self.farmer == __value.farmer\n",
    "\n",
    "    def move(self, item: chr):\n",
    "        if self.farmer:\n",
    "            self.top.remove(item)\n",
    "            self.bottom.add(item)\n",
    "        else:\n",
    "            self.bottom.remove(item)\n",
    "            self.top.add(item)\n",
    "        self.farmer = not self.farmer\n",
    "\n",
    "    def is_valid(self) -> bool:\n",
    "        items_on_shore = self.bottom if self.farmer else self.top\n",
    "        return  not any(p.issubset(items_on_shore) for p in self.prohibited)\n",
    "\n",
    "    def get_children(self) -> list:\n",
    "        children = []\n",
    "        for item in self.top if self.farmer else self.bottom:\n",
    "            child = Node(self.top.copy(), self.bottom.copy(),\n",
    "                         self.farmer, self)\n",
    "            child.move(item)\n",
    "            children.append(child)\n",
    "        child = Node(self.top.copy(), self.bottom.copy(),\n",
    "                     not self.farmer, self)\n",
    "        children.append(child)\n",
    "        return children"
   ]
  },
  {
   "cell_type": "markdown",
   "metadata": {},
   "source": [
    "#### The graph\n",
    "\n",
    "Before implementing the algorithm, I created a graph with exalidraw to visualize the problem. The graph is shown below.\n",
    "\n",
    "White nodes are valid nodes. Red nodes are invalid nodes. Blue nodes are duplicate nodes. The dotted blue line shows the duplicate nodes.\n",
    "The green node is the final state. As you can see, there are two main branches, the `C|FWG` and `W|FCG` branches. Interestingly, both branches will converge at `G|FWC`, before reaching `FG|WC` which leads to the final state, `|FWCG`.\n",
    "\n",
    "<div>\n",
    "<img src=\"./graph.png\" width=750\"/>\n",
    "</div>\n"
   ]
  },
  {
   "cell_type": "markdown",
   "metadata": {},
   "source": [
    "#### The algorithm\n",
    "\n",
    "##### Depth-first search\n",
    "Below is the implementation of the depth-first search algorithm. It takes a node, the goal state, and a set of visited nodes as arguments (optional). The visited nodes are used during the recursive calls to prevent the algorithm from getting stuck in an infinite loop. If there is no provided, it will be initialized as an empty list."
   ]
  },
  {
   "cell_type": "code",
   "execution_count": 3,
   "metadata": {},
   "outputs": [],
   "source": [
    "def dfs(node: Node, goal: Node, visited: list = []) -> Node:\n",
    "    if node == goal:\n",
    "        return node\n",
    "    if node in visited or not node.is_valid():\n",
    "        return None\n",
    "    visited.append(node)\n",
    "    for child in node.get_children():\n",
    "        result = dfs(child, goal, visited)\n",
    "        if result is not None:\n",
    "            return result\n",
    "    return None"
   ]
  },
  {
   "cell_type": "markdown",
   "metadata": {},
   "source": [
    "##### Time complexity\n",
    "\n",
    "To calculate the time complexity of this algorithm, we look at all the operations that are performed in the methods."
   ]
  },
  {
   "cell_type": "code",
   "execution_count": 4,
   "metadata": {},
   "outputs": [],
   "source": [
    "def dfs(node: Node, goal: Node, visited: list = []) -> Node:\n",
    "    if node == goal: # O(1) comparison\n",
    "        return node # This makes the best case O(1)\n",
    "    if node in visited or not node.is_valid(): # The search if the node is\n",
    "        # in the visited list is O(n) and the is_valid() is (O(n * k)) where\n",
    "        # k is the number of\n",
    "        # prohibited sets, which is 2 in this case. So the worst case is O(2n)\n",
    "        return None \n",
    "    visited.append(node) # O(1) append\n",
    "    for child in node.get_children(): # O(B). B is the branching factor,\n",
    "        # which is the number of children each node has.\n",
    "        result = dfs(child, goal, visited) # Recursive call.\n",
    "        if result is not None: # O(1) comparison\n",
    "            return result # O(1) return\n",
    "    return None"
   ]
  },
  {
   "cell_type": "markdown",
   "metadata": {},
   "source": [
    "## 2. BOGGLE\n",
    "\n",
    "\n",
    "> Boggle is a word game where as many words as possible must be found on an N x N board of letters. Words can be formed by creating sequences of adjacent letters. In this task, adjacency refers to horizontal or vertical connections (not diagonal), with the ability to continue from the last to the first column and from the last to the first row (and vice versa).\n",
    ">\n",
    "> In the 4x4 board below, for example, the words HUIS, MAT, TAS, and EI can be found:\n",
    "\n",
    "```\n",
    "┌───┬───┬───┬───┐\n",
    "│ P │ I │ E │ T │\n",
    "├───┼───┼───┼───┤\n",
    "│ G │ A │ A │ T │\n",
    "├───┼───┼───┼───┤\n",
    "│ A │ T │ M │ S │\n",
    "├───┼───┼───┼───┤\n",
    "│ H │ U │ I │ S │\n",
    "└───┴───┴───┴───┘\n",
    "```\n",
    "\n",
    "\n",
    "> Write a program for an NxN board, where N can vary. It can be done in fewer than 50 lines. You don't need to create a GUI; a command-line interface (CLI) based on text is sufficient.\n",
    ">\n",
    "> The file words.txt (available on Blackboard) contains a list of words that you can use for matching. It is useful to first create a list in memory of all possible prefixes (choose a suitable data structure for this). For example, prefixes of HUIS are H, HU, and HUI. A 'valid' state is then a sequence of letters that matches a prefix.\n",
    ">\n",
    "> Based on Depth-First Search (DFS), you can explore all possibilities. A path stops when the sequence of letters does not appear in the list of prefixes.\n",
    ">\n",
    "> Question: What is the time complexity of your solution?"
   ]
  },
  {
   "cell_type": "code",
   "execution_count": 5,
   "metadata": {},
   "outputs": [],
   "source": [
    "# import the words from the file\n",
    "words = []\n",
    "with open(\"boggle/words_EN.txt\") as f:\n",
    "    for line in f.readlines():\n",
    "        words.append(line.strip())"
   ]
  },
  {
   "cell_type": "markdown",
   "metadata": {},
   "source": [
    "### Solution"
   ]
  },
  {
   "cell_type": "code",
   "execution_count": 23,
   "metadata": {},
   "outputs": [
    {
     "name": "stdout",
     "output_type": "stream",
     "text": [
      "\u001b[32mcombs\n",
      "\u001b[32moca\n",
      "\u001b[32mmoco\n",
      "\u001b[32mbm\n",
      "\u001b[32moca\n",
      "\u001b[32macoma\n",
      "\u001b[32mamb\n",
      "\u001b[32msma\n",
      "\u001b[32mmoco\n",
      "\u001b[32maam\n",
      "\u001b[32mbac\n",
      "\u001b[32maam\n",
      "\u001b[32msma\n",
      "\u001b[32mrms\n",
      "\u001b[32miao\n",
      "\u001b[32msb\n"
     ]
    }
   ],
   "source": [
    "class BoggleGame(object):\n",
    "    words: set[str]\n",
    "    board: list[list[chr]]\n",
    "    prefixes: set[str]\n",
    "\n",
    "    def __init__(self, words: list[str], board: list[list[chr]]):\n",
    "        self.words = set(words)\n",
    "        self.board = board\n",
    "        self.prefixes = set()\n",
    "        for word in self.words:\n",
    "            for i in range(len(word)):\n",
    "                self.prefixes.add(word[:i+1])\n",
    "\n",
    "    def __str__(self):\n",
    "        return \"\\n\".join([\" \".join(row) for row in self.board])\n",
    "\n",
    "    def find_neighbors(self, i: int, j: int) -> list[tuple[int, int]]:\n",
    "        neighbors = []\n",
    "        for x in range(i-1, i+2):\n",
    "            for y in range(j-1, j+2):\n",
    "                if 0 <= x < len(self.board) and 0 <= y < len(self.board[0]) and (x, y) != (i, j):\n",
    "                    neighbors.append((x, y))\n",
    "        return neighbors\n",
    "\n",
    "    def dfs(self, i: int, j: int, visited: list[tuple[int, int]], word: str) -> str:\n",
    "        if (word not in self.prefixes) and (word not in self.words):\n",
    "            return None\n",
    "        for x, y in self.find_neighbors(i, j):\n",
    "            if (x, y) not in visited:\n",
    "                visited.append((x, y))\n",
    "                new_word = word + self.board[x][y]\n",
    "                deeper = self.dfs(x, y, visited, new_word)\n",
    "                if deeper is not None:\n",
    "                    return deeper\n",
    "                if deeper is None and new_word in self.words:\n",
    "                    return new_word\n",
    "                visited.pop()\n",
    "        return None\n",
    "\n",
    "    def find_words(self) -> list[str]:\n",
    "        found_words = []\n",
    "        for i in range(len(self.board)):\n",
    "            for j in range(len(self.board[0])):\n",
    "                if (res := self.dfs(i, j, [(i, j)], self.board[i][j]))is not None:\n",
    "                    found_words.append(res)\n",
    "        return found_words\n",
    "\n",
    "\n",
    "board = [\n",
    "    ['c', 'o', 'm', 'b'],\n",
    "    ['o', 'a', 'a', 's'],\n",
    "    ['m', 'a', 'b', 'a'],\n",
    "    ['s', 'r', 'i', 's']\n",
    "]\n",
    "\n",
    "game = BoggleGame(words, board)\n",
    "f = game.find_words()"
   ]
  },
  {
   "cell_type": "code",
   "execution_count": null,
   "metadata": {},
   "outputs": [],
   "source": []
  }
 ],
 "metadata": {
  "kernelspec": {
   "display_name": "venv",
   "language": "python",
   "name": "python3"
  },
  "language_info": {
   "codemirror_mode": {
    "name": "ipython",
    "version": 3
   },
   "file_extension": ".py",
   "mimetype": "text/x-python",
   "name": "python",
   "nbconvert_exporter": "python",
   "pygments_lexer": "ipython3",
   "version": "3.11.0"
  }
 },
 "nbformat": 4,
 "nbformat_minor": 2
}
